{
  "nbformat": 4,
  "nbformat_minor": 0,
  "metadata": {
    "colab": {
      "name": "Salinan dari Leaf_Diseas.ipynb",
      "provenance": [],
      "collapsed_sections": []
    },
    "kernelspec": {
      "name": "python3",
      "display_name": "Python 3"
    }
  },
  "cells": [
    {
      "cell_type": "code",
      "metadata": {
        "id": "MH7ptlQXSnke",
        "colab_type": "code",
        "colab": {
          "base_uri": "https://localhost:8080/",
          "height": 71
        },
        "outputId": "fcab764b-cf7a-4484-9bc0-74a02adffe50"
      },
      "source": [
        "import tensorflow as tf\n",
        "import numpy as np\n",
        "import matplotlib.pyplot as plt\n",
        "import seaborn as sns\n",
        "from tensorflow.keras.preprocessing.image import ImageDataGenerator"
      ],
      "execution_count": null,
      "outputs": [
        {
          "output_type": "stream",
          "text": [
            "/usr/local/lib/python3.6/dist-packages/statsmodels/tools/_testing.py:19: FutureWarning: pandas.util.testing is deprecated. Use the functions in the public API at pandas.testing instead.\n",
            "  import pandas.util.testing as tm\n"
          ],
          "name": "stderr"
        }
      ]
    },
    {
      "cell_type": "code",
      "metadata": {
        "id": "JB00vA8QS1Ha",
        "colab_type": "code",
        "colab": {
          "base_uri": "https://localhost:8080/",
          "height": 34
        },
        "outputId": "3d421773-0e84-4ebe-9790-dd3bc5bce492"
      },
      "source": [
        "from google.colab import drive\n",
        "drive.mount(\"/content/drive\")"
      ],
      "execution_count": null,
      "outputs": [
        {
          "output_type": "stream",
          "text": [
            "Drive already mounted at /content/drive; to attempt to forcibly remount, call drive.mount(\"/content/drive\", force_remount=True).\n"
          ],
          "name": "stdout"
        }
      ]
    },
    {
      "cell_type": "code",
      "metadata": {
        "id": "IBPN5NmGTNjV",
        "colab_type": "code",
        "colab": {}
      },
      "source": [
        "import os\n",
        "os.environ[\"KAGGLE_CONFIG_DIR\"] = '/content/drive/My Drive/Kaggle'"
      ],
      "execution_count": null,
      "outputs": []
    },
    {
      "cell_type": "code",
      "metadata": {
        "id": "mNc3tEaETaS0",
        "colab_type": "code",
        "colab": {
          "base_uri": "https://localhost:8080/",
          "height": 34
        },
        "outputId": "ccbea740-c463-40c1-c7a0-4c68d58a9e9d"
      },
      "source": [
        "%cd /content/drive/My\\ Drive/Kaggle"
      ],
      "execution_count": null,
      "outputs": [
        {
          "output_type": "stream",
          "text": [
            "/content/drive/My Drive/Kaggle\n"
          ],
          "name": "stdout"
        }
      ]
    },
    {
      "cell_type": "code",
      "metadata": {
        "id": "4f7op--1SvAu",
        "colab_type": "code",
        "colab": {
          "base_uri": "https://localhost:8080/",
          "height": 34
        },
        "outputId": "86b708db-9daa-4794-f0b4-83b7f3947ddc"
      },
      "source": [
        "!kaggle datasets download -d sizlingdhairya1/leaf-disease"
      ],
      "execution_count": null,
      "outputs": [
        {
          "output_type": "stream",
          "text": [
            "leaf-disease.zip: Skipping, found more recently modified local copy (use --force to force download)\n"
          ],
          "name": "stdout"
        }
      ]
    },
    {
      "cell_type": "code",
      "metadata": {
        "id": "AwnGd4NjTeWc",
        "colab_type": "code",
        "colab": {}
      },
      "source": [
        "# !unzip leaf-disease.zip  && rm leaf-disease.zip"
      ],
      "execution_count": null,
      "outputs": []
    },
    {
      "cell_type": "code",
      "metadata": {
        "id": "DIrdFQQzc0Oe",
        "colab_type": "code",
        "colab": {}
      },
      "source": [
        "base_dir = os.path.join('Datasets/train')\n",
        "jml = 0\n",
        "list = []\n",
        "\n",
        "for i in os.listdir(base_dir):\n",
        "  path = os.path.join(base_dir, i)\n",
        "  for j in os.listdir(path):\n",
        "    jml += 1\n",
        "  list.append([i,jml])\n",
        "  jml = 0"
      ],
      "execution_count": null,
      "outputs": []
    },
    {
      "cell_type": "code",
      "metadata": {
        "id": "U_GqHa7CdiFY",
        "colab_type": "code",
        "colab": {
          "base_uri": "https://localhost:8080/",
          "height": 34
        },
        "outputId": "dad0b7a5-5dad-4a72-a681-d0a730157380"
      },
      "source": [
        "print(list)"
      ],
      "execution_count": null,
      "outputs": [
        {
          "output_type": "stream",
          "text": [
            "[['Bacteria', 45], ['Fungi', 45], ['Nematodes', 45], ['Normal', 35], ['Virus', 45]]\n"
          ],
          "name": "stdout"
        }
      ]
    },
    {
      "cell_type": "code",
      "metadata": {
        "id": "4xQynGaZOwIb",
        "colab_type": "code",
        "colab": {
          "base_uri": "https://localhost:8080/",
          "height": 303
        },
        "outputId": "00ca7d31-2d17-47cc-b49d-8e023b548f07"
      },
      "source": [
        "import cv2\n",
        "\n",
        "for i in os.listdir(base_dir):\n",
        "  path = os.path.join(base_dir, i)\n",
        "  for j in os.listdir(path):\n",
        "    img = cv2.imread(os.path.join(path, j))\n",
        "    print(img.shape)\n",
        "    new = cv2.resize(img, (150, 150))\n",
        "    plt.imshow(img)\n",
        "    print(new.shape)\n",
        "    break\n",
        "  break"
      ],
      "execution_count": null,
      "outputs": [
        {
          "output_type": "stream",
          "text": [
            "(256, 256, 3)\n",
            "(150, 150, 3)\n"
          ],
          "name": "stdout"
        },
        {
          "output_type": "display_data",
          "data": {
            "image/png": "[encoded data removed]",
            "text/plain": [
              "<Figure size 432x288 with 1 Axes>"
            ]
          },
          "metadata": {
            "tags": [],
            "needs_background": "light"
          }
        }
      ]
    },
    {
      "cell_type": "code",
      "metadata": {
        "id": "2Npv1OivlT-8",
        "colab_type": "code",
        "colab": {
          "base_uri": "https://localhost:8080/",
          "height": 51
        },
        "outputId": "691c1cb9-5ba9-43ae-8da5-56a8919a7d63"
      },
      "source": [
        "train_datagen = ImageDataGenerator(\n",
        "    rescale = 1./255,\n",
        "    shear_range = 0.2,\n",
        "    zoom_range = 0.2,\n",
        "    horizontal_flip = True\n",
        ")\n",
        "\n",
        "train_generator = train_datagen.flow_from_directory(\n",
        "    'Datasets/train',\n",
        "    color_mode = 'rgb',\n",
        "    target_size = (250,250),\n",
        "    batch_size = 64,\n",
        "    class_mode = 'categorical',\n",
        "    shuffle = True,\n",
        ")\n",
        "\n",
        "test_datagen = ImageDataGenerator(\n",
        "    rescale = 1./255\n",
        ")\n",
        "\n",
        "test_generator = test_datagen.flow_from_directory(\n",
        "    'Datasets/validation',\n",
        "    color_mode = 'rgb',\n",
        "    target_size = (250,250),\n",
        "    batch_size = 64,\n",
        "    class_mode = 'categorical',\n",
        ")"
      ],
      "execution_count": null,
      "outputs": [
        {
          "output_type": "stream",
          "text": [
            "Found 215 images belonging to 5 classes.\n",
            "Found 24 images belonging to 5 classes.\n"
          ],
          "name": "stdout"
        }
      ]
    },
    {
      "cell_type": "code",
      "metadata": {
        "id": "cgXMOtSMd8AK",
        "colab_type": "code",
        "colab": {
          "base_uri": "https://localhost:8080/",
          "height": 54
        },
        "outputId": "a998c021-c7eb-4820-e6a8-f588be190efb"
      },
      "source": [
        "import tensorflow as tf\n",
        "\n",
        "resnet = tf.keras.applications.ResNet50V2(weights='imagenet', include_top=False, input_shape=(250,250,3))\n",
        "mobilenet = tf.keras.applications.MobileNetV2(weights='imagenet', include_top=False, input_shape=(250,250,3))\n",
        "\n",
        "resnet.trainable = False\n",
        "mobilenet.trainable = False"
      ],
      "execution_count": null,
      "outputs": [
        {
          "output_type": "stream",
          "text": [
            "WARNING:tensorflow:`input_shape` is undefined or non-square, or `rows` is not in [96, 128, 160, 192, 224]. Weights for input shape (224, 224) will be loaded as the default.\n"
          ],
          "name": "stdout"
        }
      ]
    },
    {
      "cell_type": "code",
      "metadata": {
        "id": "wj2SQHGbjO_3",
        "colab_type": "code",
        "colab": {}
      },
      "source": [
        "model = tf.keras.Sequential([\n",
        "    resnet,\n",
        "    tf.keras.layers.GlobalAveragePooling2D(),\n",
        "    tf.keras.layers.Dropout(0.2),\n",
        "    tf.keras.layers.Dense(5, activation=\"softmax\")\n",
        "])\n",
        "\n",
        "model_mobilenet = tf.keras.Sequential([\n",
        "    mobilenet,\n",
        "    tf.keras.layers.GlobalAveragePooling2D(),\n",
        "    tf.keras.layers.Dropout(0.2),\n",
        "    tf.keras.layers.Dense(5, activation=\"softmax\")\n",
        "])"
      ],
      "execution_count": null,
      "outputs": []
    },
    {
      "cell_type": "code",
      "metadata": {
        "id": "uXX5bh_aj6aL",
        "colab_type": "code",
        "colab": {
          "base_uri": "https://localhost:8080/",
          "height": 289
        },
        "outputId": "b5ca142a-754b-42dd-e78f-f1207b902887"
      },
      "source": [
        "model.summary()"
      ],
      "execution_count": null,
      "outputs": [
        {
          "output_type": "stream",
          "text": [
            "Model: \"sequential\"\n",
            "_________________________________________________________________\n",
            "Layer (type)                 Output Shape              Param #   \n",
            "=================================================================\n",
            "resnet50v2 (Functional)      (None, 8, 8, 2048)        23564800  \n",
            "_________________________________________________________________\n",
            "global_average_pooling2d (Gl (None, 2048)              0         \n",
            "_________________________________________________________________\n",
            "dropout (Dropout)            (None, 2048)              0         \n",
            "_________________________________________________________________\n",
            "dense (Dense)                (None, 5)                 10245     \n",
            "=================================================================\n",
            "Total params: 23,575,045\n",
            "Trainable params: 10,245\n",
            "Non-trainable params: 23,564,800\n",
            "_________________________________________________________________\n"
          ],
          "name": "stdout"
        }
      ]
    },
    {
      "cell_type": "code",
      "metadata": {
        "id": "UknuHFCQO8gI",
        "colab_type": "code",
        "colab": {
          "base_uri": "https://localhost:8080/",
          "height": 289
        },
        "outputId": "cdb62698-85ad-4330-fd6d-521967e340d9"
      },
      "source": [
        "model_mobilenet.summary()"
      ],
      "execution_count": null,
      "outputs": [
        {
          "output_type": "stream",
          "text": [
            "Model: \"sequential_1\"\n",
            "_________________________________________________________________\n",
            "Layer (type)                 Output Shape              Param #   \n",
            "=================================================================\n",
            "mobilenetv2_1.00_224 (Functi (None, 8, 8, 1280)        2257984   \n",
            "_________________________________________________________________\n",
            "global_average_pooling2d_1 ( (None, 1280)              0         \n",
            "_________________________________________________________________\n",
            "dropout_1 (Dropout)          (None, 1280)              0         \n",
            "_________________________________________________________________\n",
            "dense_1 (Dense)              (None, 5)                 6405      \n",
            "=================================================================\n",
            "Total params: 2,264,389\n",
            "Trainable params: 6,405\n",
            "Non-trainable params: 2,257,984\n",
            "_________________________________________________________________\n"
          ],
          "name": "stdout"
        }
      ]
    },
    {
      "cell_type": "code",
      "metadata": {
        "id": "CZFu6ylgkpqK",
        "colab_type": "code",
        "colab": {}
      },
      "source": [
        "model.compile(optimizer=\"adam\", loss=\"categorical_crossentropy\", metrics=[\"accuracy\"])\n",
        "model_mobilenet.compile(optimizer='adam', loss='categorical_crossentropy', metrics=['accuracy'])"
      ],
      "execution_count": null,
      "outputs": []
    },
    {
      "cell_type": "code",
      "metadata": {
        "id": "Eft0QKYok85e",
        "colab_type": "code",
        "colab": {}
      },
      "source": [
        "class myCallback(tf.keras.callbacks.Callback):\n",
        "    def on_epoch_end(self, epoch, logs={}):\n",
        "        if(logs.get(\"accuracy\")>0.99):\n",
        "            print(\" Reached 99% Accuracy\")\n",
        "            self.model.stop_training = True\n",
        "\n",
        "callbacks = myCallback()"
      ],
      "execution_count": null,
      "outputs": []
    },
    {
      "cell_type": "code",
      "metadata": {
        "id": "N0K5Z1gFkxI3",
        "colab_type": "code",
        "colab": {
          "base_uri": "https://localhost:8080/",
          "height": 595
        },
        "outputId": "a8f7fb3c-b6c0-4ef0-e7de-4b199e898161"
      },
      "source": [
        "from time import time\n",
        "\n",
        "t1 = time()\n",
        "model.fit(train_generator, validation_data=test_generator, epochs=30, callbacks=[callbacks])"
      ],
      "execution_count": null,
      "outputs": [
        {
          "output_type": "stream",
          "text": [
            "Epoch 1/30\n",
            "4/4 [==============================] - 44s 11s/step - loss: 1.6920 - accuracy: 0.2977 - val_loss: 1.2205 - val_accuracy: 0.4167\n",
            "Epoch 2/30\n",
            "4/4 [==============================] - 31s 8s/step - loss: 1.1999 - accuracy: 0.4977 - val_loss: 0.8873 - val_accuracy: 0.6250\n",
            "Epoch 3/30\n",
            "4/4 [==============================] - 31s 8s/step - loss: 0.8064 - accuracy: 0.7070 - val_loss: 0.6727 - val_accuracy: 0.7500\n",
            "Epoch 4/30\n",
            "4/4 [==============================] - 31s 8s/step - loss: 0.6310 - accuracy: 0.7860 - val_loss: 0.5421 - val_accuracy: 0.9167\n",
            "Epoch 5/30\n",
            "4/4 [==============================] - 31s 8s/step - loss: 0.4974 - accuracy: 0.8698 - val_loss: 0.4553 - val_accuracy: 0.9583\n",
            "Epoch 6/30\n",
            "4/4 [==============================] - 38s 10s/step - loss: 0.4069 - accuracy: 0.8930 - val_loss: 0.3848 - val_accuracy: 0.9583\n",
            "Epoch 7/30\n",
            "4/4 [==============================] - 31s 8s/step - loss: 0.3362 - accuracy: 0.9163 - val_loss: 0.3327 - val_accuracy: 0.9583\n",
            "Epoch 8/30\n",
            "4/4 [==============================] - 38s 10s/step - loss: 0.3213 - accuracy: 0.9163 - val_loss: 0.2917 - val_accuracy: 0.9583\n",
            "Epoch 9/30\n",
            "4/4 [==============================] - 31s 8s/step - loss: 0.2736 - accuracy: 0.9442 - val_loss: 0.2617 - val_accuracy: 0.9583\n",
            "Epoch 10/30\n",
            "4/4 [==============================] - 31s 8s/step - loss: 0.2577 - accuracy: 0.9581 - val_loss: 0.2366 - val_accuracy: 0.9583\n",
            "Epoch 11/30\n",
            "4/4 [==============================] - 32s 8s/step - loss: 0.2201 - accuracy: 0.9581 - val_loss: 0.2124 - val_accuracy: 0.9583\n",
            "Epoch 12/30\n",
            "4/4 [==============================] - 38s 10s/step - loss: 0.2103 - accuracy: 0.9488 - val_loss: 0.1962 - val_accuracy: 0.9583\n",
            "Epoch 13/30\n",
            "4/4 [==============================] - 39s 10s/step - loss: 0.2106 - accuracy: 0.9581 - val_loss: 0.1805 - val_accuracy: 0.9583\n",
            "Epoch 14/30\n",
            "4/4 [==============================] - 32s 8s/step - loss: 0.1624 - accuracy: 0.9721 - val_loss: 0.1695 - val_accuracy: 0.9583\n",
            "Epoch 15/30\n",
            "4/4 [==============================] - 42s 11s/step - loss: 0.1634 - accuracy: 0.9814 - val_loss: 0.1567 - val_accuracy: 0.9583\n",
            "Epoch 16/30\n",
            "4/4 [==============================] - ETA: 0s - loss: 0.1354 - accuracy: 0.9907 Reached 99% Accuracy\n",
            "4/4 [==============================] - 31s 8s/step - loss: 0.1354 - accuracy: 0.9907 - val_loss: 0.1484 - val_accuracy: 1.0000\n"
          ],
          "name": "stdout"
        },
        {
          "output_type": "execute_result",
          "data": {
            "text/plain": [
              "<tensorflow.python.keras.callbacks.History at 0x7fea56f95438>"
            ]
          },
          "metadata": {
            "tags": []
          },
          "execution_count": 17
        }
      ]
    },
    {
      "cell_type": "code",
      "metadata": {
        "id": "_mmmQQDi1j6F",
        "colab_type": "code",
        "colab": {
          "base_uri": "https://localhost:8080/",
          "height": 867
        },
        "outputId": "b2b63043-15d1-4ed4-9ba6-1f53df510205"
      },
      "source": [
        "t2 = time()\n",
        "model_mobilenet.fit(train_generator, validation_data=test_generator, epochs=30, callbacks=[callbacks])"
      ],
      "execution_count": null,
      "outputs": [
        {
          "output_type": "stream",
          "text": [
            "Epoch 1/30\n",
            "4/4 [==============================] - 10s 2s/step - loss: 1.7128 - accuracy: 0.2419 - val_loss: 1.3732 - val_accuracy: 0.4167\n",
            "Epoch 2/30\n",
            "4/4 [==============================] - 9s 2s/step - loss: 1.2758 - accuracy: 0.4512 - val_loss: 1.0474 - val_accuracy: 0.7083\n",
            "Epoch 3/30\n",
            "4/4 [==============================] - 11s 3s/step - loss: 0.9453 - accuracy: 0.6744 - val_loss: 0.8010 - val_accuracy: 0.7500\n",
            "Epoch 4/30\n",
            "4/4 [==============================] - 11s 3s/step - loss: 0.7572 - accuracy: 0.7721 - val_loss: 0.6350 - val_accuracy: 0.8333\n",
            "Epoch 5/30\n",
            "4/4 [==============================] - 9s 2s/step - loss: 0.5913 - accuracy: 0.8186 - val_loss: 0.5283 - val_accuracy: 0.8750\n",
            "Epoch 6/30\n",
            "4/4 [==============================] - 9s 2s/step - loss: 0.4924 - accuracy: 0.8651 - val_loss: 0.4605 - val_accuracy: 0.8750\n",
            "Epoch 7/30\n",
            "4/4 [==============================] - 9s 2s/step - loss: 0.4228 - accuracy: 0.8837 - val_loss: 0.3839 - val_accuracy: 0.8750\n",
            "Epoch 8/30\n",
            "4/4 [==============================] - 9s 2s/step - loss: 0.3328 - accuracy: 0.9349 - val_loss: 0.3090 - val_accuracy: 0.9167\n",
            "Epoch 9/30\n",
            "4/4 [==============================] - 9s 2s/step - loss: 0.3066 - accuracy: 0.9256 - val_loss: 0.2684 - val_accuracy: 0.9167\n",
            "Epoch 10/30\n",
            "4/4 [==============================] - 11s 3s/step - loss: 0.2900 - accuracy: 0.9395 - val_loss: 0.2382 - val_accuracy: 0.9167\n",
            "Epoch 11/30\n",
            "4/4 [==============================] - 9s 2s/step - loss: 0.2525 - accuracy: 0.9488 - val_loss: 0.2188 - val_accuracy: 0.9167\n",
            "Epoch 12/30\n",
            "4/4 [==============================] - 9s 2s/step - loss: 0.2392 - accuracy: 0.9395 - val_loss: 0.2035 - val_accuracy: 0.9167\n",
            "Epoch 13/30\n",
            "4/4 [==============================] - 9s 2s/step - loss: 0.2150 - accuracy: 0.9581 - val_loss: 0.1857 - val_accuracy: 0.9583\n",
            "Epoch 14/30\n",
            "4/4 [==============================] - 11s 3s/step - loss: 0.1952 - accuracy: 0.9674 - val_loss: 0.1597 - val_accuracy: 1.0000\n",
            "Epoch 15/30\n",
            "4/4 [==============================] - 11s 3s/step - loss: 0.1922 - accuracy: 0.9674 - val_loss: 0.1605 - val_accuracy: 1.0000\n",
            "Epoch 16/30\n",
            "4/4 [==============================] - 9s 2s/step - loss: 0.1705 - accuracy: 0.9721 - val_loss: 0.1667 - val_accuracy: 0.9583\n",
            "Epoch 17/30\n",
            "4/4 [==============================] - 9s 2s/step - loss: 0.1531 - accuracy: 0.9674 - val_loss: 0.1597 - val_accuracy: 0.9583\n",
            "Epoch 18/30\n",
            "4/4 [==============================] - 9s 2s/step - loss: 0.1696 - accuracy: 0.9488 - val_loss: 0.1370 - val_accuracy: 1.0000\n",
            "Epoch 19/30\n",
            "4/4 [==============================] - 9s 2s/step - loss: 0.1322 - accuracy: 0.9721 - val_loss: 0.1156 - val_accuracy: 1.0000\n",
            "Epoch 20/30\n",
            "4/4 [==============================] - 9s 2s/step - loss: 0.1461 - accuracy: 0.9674 - val_loss: 0.1058 - val_accuracy: 1.0000\n",
            "Epoch 21/30\n",
            "4/4 [==============================] - 9s 2s/step - loss: 0.1575 - accuracy: 0.9814 - val_loss: 0.1053 - val_accuracy: 1.0000\n",
            "Epoch 22/30\n",
            "4/4 [==============================] - 9s 2s/step - loss: 0.1360 - accuracy: 0.9814 - val_loss: 0.1049 - val_accuracy: 1.0000\n",
            "Epoch 23/30\n",
            "4/4 [==============================] - 9s 2s/step - loss: 0.1245 - accuracy: 0.9674 - val_loss: 0.1095 - val_accuracy: 1.0000\n",
            "Epoch 24/30\n",
            "4/4 [==============================] - ETA: 0s - loss: 0.1057 - accuracy: 0.9907 Reached 99% Accuracy\n",
            "4/4 [==============================] - 9s 2s/step - loss: 0.1057 - accuracy: 0.9907 - val_loss: 0.1064 - val_accuracy: 1.0000\n"
          ],
          "name": "stdout"
        },
        {
          "output_type": "execute_result",
          "data": {
            "text/plain": [
              "<tensorflow.python.keras.callbacks.History at 0x7fea5471c278>"
            ]
          },
          "metadata": {
            "tags": []
          },
          "execution_count": 18
        }
      ]
    },
    {
      "cell_type": "code",
      "metadata": {
        "id": "RrFYdX9YpLRJ",
        "colab_type": "code",
        "colab": {
          "base_uri": "https://localhost:8080/",
          "height": 833
        },
        "outputId": "28a0027e-c3a5-4e66-b2ca-19ab669471fa"
      },
      "source": [
        "from tensorflow.keras.preprocessing import image\n",
        "\n",
        "validation_base_dir = os.path.join(\"Datasets/validation\")\n",
        "\n",
        "# dibawah ini nama nya hanya perumpamaan saja\n",
        "y_test = []\n",
        "pred = []\n",
        "\n",
        "def test():\n",
        "  for i in os.listdir(validation_base_dir):\n",
        "    path = os.path.join(validation_base_dir, i)\n",
        "\n",
        "    for j in os.listdir(path):\n",
        "\n",
        "      if i == \"Bacteria\":\n",
        "        y_test.append(0)\n",
        "      elif i == \"Fungi\":\n",
        "        y_test.append(1)\n",
        "      elif i == \"Nematodes\":\n",
        "        y_test.append(2)\n",
        "      elif i == \"Virus\":\n",
        "        y_test.append(3)\n",
        "      else:\n",
        "        y_test.append(4)\n",
        "\n",
        "      img = image.load_img(os.path.join(path, j), target_size=(250,250), color_mode=\"rgb\")\n",
        "      x = image.img_to_array(img)\n",
        "      x = np.expand_dims(x, axis=0)\n",
        "      x = x/255.0\n",
        "\n",
        "      images = np.vstack([x])\n",
        "      classes = model.predict(images, batch_size=10)\n",
        "      result = []\n",
        "\n",
        "      argmax = np.argmax(classes[0])\n",
        "      \n",
        "      if argmax == 0:\n",
        "        temp = \"From Validation Class \" + i + \" -> Bacteria\"\n",
        "        kelas = 0\n",
        "        pred.append(kelas)\n",
        "\n",
        "      elif argmax == 1:\n",
        "        temp = \"From Validation Class \" + i + \" -> Fungi\"\n",
        "        kelas = 1\n",
        "        pred.append(kelas)\n",
        "\n",
        "      elif argmax == 2:\n",
        "        temp = \"From Validation Class \" + i + \" -> Nematodes\"\n",
        "        kelas = 2\n",
        "        pred.append(kelas)\n",
        "\n",
        "      elif argmax == 3:\n",
        "        temp = \"From Validation Class \" + i + \" -> Normal\"\n",
        "        kelas = 3\n",
        "        pred.append(kelas)\n",
        "\n",
        "      else:\n",
        "        temp = \"From Validation Class \" + i + \" -> Virus\"\n",
        "        kelas = 4\n",
        "        pred.append(kelas)\n",
        "      \n",
        "      result.append(temp)\n",
        "      print(result)\n",
        "\n",
        "\n",
        "def test_mobilenet():\n",
        "  for i in os.listdir(validation_base_dir):\n",
        "    path = os.path.join(validation_base_dir, i)\n",
        "\n",
        "    for j in os.listdir(path):\n",
        "\n",
        "      if i == \"Bacteria\":\n",
        "        y_test.append(0)\n",
        "      elif i == \"Fungi\":\n",
        "        y_test.append(1)\n",
        "      elif i == \"Nematodes\":\n",
        "        y_test.append(2)\n",
        "      elif i == \"Virus\":\n",
        "        y_test.append(3)\n",
        "      else:\n",
        "        y_test.append(4)\n",
        "\n",
        "      img = image.load_img(os.path.join(path, j), target_size=(250,250), color_mode=\"rgb\")\n",
        "      x = image.img_to_array(img)\n",
        "      x = np.expand_dims(x, axis=0)\n",
        "      x = x/255.0\n",
        "\n",
        "      images = np.vstack([x])\n",
        "      classes = model_mobilenet.predict(images, batch_size=10)\n",
        "      result = []\n",
        "\n",
        "      argmax = np.argmax(classes[0])\n",
        "      \n",
        "      if argmax == 0:\n",
        "        temp = \"From Validation Class \" + i + \" -> Bacteria\"\n",
        "        kelas = 0\n",
        "        pred.append(kelas)\n",
        "\n",
        "      elif argmax == 1:\n",
        "        temp = \"From Validation Class \" + i + \" -> Fungi\"\n",
        "        kelas = 1\n",
        "        pred.append(kelas)\n",
        "\n",
        "      elif argmax == 2:\n",
        "        temp = \"From Validation Class \" + i + \" -> Nematodes\"\n",
        "        kelas = 2\n",
        "        pred.append(kelas)\n",
        "\n",
        "      elif argmax == 3:\n",
        "        temp = \"From Validation Class \" + i + \" -> Normal\"\n",
        "        kelas = 3\n",
        "        pred.append(kelas)\n",
        "\n",
        "      else:\n",
        "        temp = \"From Validation Class \" + i + \" -> Virus\"\n",
        "        kelas = 4\n",
        "        pred.append(kelas)\n",
        "      \n",
        "      result.append(temp)\n",
        "      print(result)\n",
        "\n",
        "test()"
      ],
      "execution_count": null,
      "outputs": [
        {
          "output_type": "stream",
          "text": [
            "[[0.7985543  0.06637133 0.0380412  0.09607937 0.00095379]]\n",
            "['From Validation Class Bacteria -> Bacteria']\n",
            "[[0.759217   0.05001205 0.01906332 0.16726486 0.00444278]]\n",
            "['From Validation Class Bacteria -> Bacteria']\n",
            "[[0.674129   0.20313421 0.00589193 0.11535151 0.00149332]]\n",
            "['From Validation Class Bacteria -> Bacteria']\n",
            "[[0.54978275 0.02777638 0.2893271  0.12479188 0.00832186]]\n",
            "['From Validation Class Bacteria -> Bacteria']\n",
            "[[0.9039351  0.07510303 0.00224397 0.00981911 0.00889884]]\n",
            "['From Validation Class Bacteria -> Bacteria']\n",
            "[[6.1110422e-02 1.1343117e-02 9.1668499e-01 1.0566396e-02 2.9513895e-04]]\n",
            "['From Validation Class Nematodes -> Nematodes']\n",
            "[[7.4526765e-03 5.5183168e-03 9.8661429e-01 3.8153934e-04 3.3138993e-05]]\n",
            "['From Validation Class Nematodes -> Nematodes']\n",
            "[[1.9032656e-03 3.2602828e-03 9.9459571e-01 1.8174262e-04 5.9054812e-05]]\n",
            "['From Validation Class Nematodes -> Nematodes']\n",
            "[[1.3203613e-02 6.3870610e-03 9.7906828e-01 1.2975971e-03 4.3468553e-05]]\n",
            "['From Validation Class Nematodes -> Nematodes']\n",
            "[[1.4847661e-03 3.9926203e-04 2.4577994e-05 6.6554268e-05 9.9802482e-01]]\n",
            "['From Validation Class Virus -> Virus']\n",
            "[[5.7458985e-03 2.3866098e-02 6.4222963e-04 7.4077614e-02 8.9566821e-01]]\n",
            "['From Validation Class Virus -> Virus']\n",
            "[[2.0522354e-03 1.8465794e-03 2.7099930e-04 1.0607609e-03 9.9476939e-01]]\n",
            "['From Validation Class Virus -> Virus']\n",
            "[[3.3160353e-03 2.8751036e-03 5.8524910e-04 5.0038198e-04 9.9272329e-01]]\n",
            "['From Validation Class Virus -> Virus']\n",
            "[[8.2114134e-03 5.4932985e-04 3.0136251e-04 1.5827853e-03 9.8935509e-01]]\n",
            "['From Validation Class Virus -> Virus']\n",
            "[[7.2023090e-06 9.9994600e-01 2.8057654e-08 4.5247754e-05 1.5259092e-06]]\n",
            "['From Validation Class Fungi -> Fungi']\n",
            "[[4.3139234e-02 9.3805683e-01 7.0260223e-03 1.0842208e-02 9.3578990e-04]]\n",
            "['From Validation Class Fungi -> Fungi']\n",
            "[[3.7732285e-02 9.2831242e-01 1.9022217e-03 3.1593036e-02 4.6012615e-04]]\n",
            "['From Validation Class Fungi -> Fungi']\n",
            "[[0.3605879  0.447064   0.12869582 0.06104911 0.00260313]]\n",
            "['From Validation Class Fungi -> Fungi']\n",
            "[[1.0418010e-04 9.9923289e-01 2.6376991e-04 2.3520981e-04 1.6392379e-04]]\n",
            "['From Validation Class Fungi -> Fungi']\n",
            "[[0.06171305 0.05203112 0.08832123 0.7948673  0.00306732]]\n",
            "['From Validation Class Normal -> Normal']\n",
            "[[3.1516902e-02 7.9802992e-03 1.8933637e-04 9.5989996e-01 4.1359535e-04]]\n",
            "['From Validation Class Normal -> Normal']\n",
            "[[5.7985425e-02 6.8826988e-02 1.5782541e-02 8.5697514e-01 4.2995499e-04]]\n",
            "['From Validation Class Normal -> Normal']\n",
            "[[1.782576e-02 6.825444e-02 1.038122e-03 9.123856e-01 4.960769e-04]]\n",
            "['From Validation Class Normal -> Normal']\n",
            "[[0.01619691 0.19812445 0.00213973 0.782442   0.00109696]]\n",
            "['From Validation Class Normal -> Normal']\n"
          ],
          "name": "stdout"
        }
      ]
    },
    {
      "cell_type": "code",
      "metadata": {
        "id": "Z47ZP8aUZ1FF",
        "colab_type": "code",
        "colab": {
          "base_uri": "https://localhost:8080/",
          "height": 833
        },
        "outputId": "7d87a321-3a78-4873-f6dc-8c026939d5c8"
      },
      "source": [
        "test_mobilenet()"
      ],
      "execution_count": null,
      "outputs": [
        {
          "output_type": "stream",
          "text": [
            "[[0.8613427  0.0067938  0.00267798 0.12506512 0.00412038]]\n",
            "['From Validation Class Bacteria -> Bacteria']\n",
            "[[0.97750175 0.00258095 0.00142114 0.01638686 0.00210923]]\n",
            "['From Validation Class Bacteria -> Bacteria']\n",
            "[[0.8426156  0.09231327 0.02384437 0.03412476 0.007102  ]]\n",
            "['From Validation Class Bacteria -> Bacteria']\n",
            "[[0.97214216 0.0045173  0.01379783 0.00823403 0.00130873]]\n",
            "['From Validation Class Bacteria -> Bacteria']\n",
            "[[9.8661578e-01 6.6877748e-03 2.7968348e-03 5.0956401e-04 3.3899299e-03]]\n",
            "['From Validation Class Bacteria -> Bacteria']\n",
            "[[0.09108372 0.01282593 0.88550794 0.00618178 0.0044006 ]]\n",
            "['From Validation Class Nematodes -> Nematodes']\n",
            "[[5.2078615e-04 5.0650886e-03 9.9395257e-01 2.8974962e-04 1.7182837e-04]]\n",
            "['From Validation Class Nematodes -> Nematodes']\n",
            "[[5.5409358e-03 5.5648461e-03 9.8733133e-01 1.4097970e-03 1.5316533e-04]]\n",
            "['From Validation Class Nematodes -> Nematodes']\n",
            "[[2.3226659e-03 3.2304567e-03 9.9356443e-01 7.8652333e-04 9.5785901e-05]]\n",
            "['From Validation Class Nematodes -> Nematodes']\n",
            "[[2.8224203e-03 3.5638438e-04 1.6963261e-04 2.0399315e-05 9.9663121e-01]]\n",
            "['From Validation Class Virus -> Virus']\n",
            "[[3.7180793e-02 5.7787732e-03 6.8419636e-04 3.3793855e-03 9.5297682e-01]]\n",
            "['From Validation Class Virus -> Virus']\n",
            "[[4.7461591e-03 2.4915845e-03 1.8065545e-03 8.2000093e-05 9.9087369e-01]]\n",
            "['From Validation Class Virus -> Virus']\n",
            "[[1.5332098e-02 4.4475353e-04 3.2035998e-04 8.9554829e-05 9.8381329e-01]]\n",
            "['From Validation Class Virus -> Virus']\n",
            "[[8.5435621e-03 1.8771591e-03 4.0002543e-04 2.2577203e-03 9.8692155e-01]]\n",
            "['From Validation Class Virus -> Virus']\n",
            "[[5.5604195e-04 9.9817705e-01 1.1629275e-04 3.7191683e-04 7.7866350e-04]]\n",
            "['From Validation Class Fungi -> Fungi']\n",
            "[[1.0122224e-02 9.5454836e-01 3.9214576e-03 3.0899158e-02 5.0888438e-04]]\n",
            "['From Validation Class Fungi -> Fungi']\n",
            "[[3.0081406e-02 9.5922941e-01 3.0084201e-03 7.0048328e-03 6.7597692e-04]]\n",
            "['From Validation Class Fungi -> Fungi']\n",
            "[[0.04468269 0.92125285 0.0170277  0.01576797 0.0012688 ]]\n",
            "['From Validation Class Fungi -> Fungi']\n",
            "[[0.00184677 0.97610587 0.01922216 0.00109725 0.00172798]]\n",
            "['From Validation Class Fungi -> Fungi']\n",
            "[[1.5380328e-02 2.7800089e-02 6.3479594e-03 9.5021141e-01 2.6017858e-04]]\n",
            "['From Validation Class Normal -> Normal']\n",
            "[[0.1675925  0.06007089 0.01228515 0.75611436 0.00393711]]\n",
            "['From Validation Class Normal -> Normal']\n",
            "[[0.06476606 0.3394811  0.02427797 0.5707149  0.00076004]]\n",
            "['From Validation Class Normal -> Normal']\n",
            "[[0.0109538  0.2689029  0.00242591 0.7163602  0.00135719]]\n",
            "['From Validation Class Normal -> Normal']\n",
            "[[0.00935703 0.38612705 0.00117229 0.6006631  0.00268046]]\n",
            "['From Validation Class Normal -> Normal']\n"
          ],
          "name": "stdout"
        }
      ]
    },
    {
      "cell_type": "code",
      "metadata": {
        "id": "E3aI95NFq9ou",
        "colab_type": "code",
        "colab": {
          "base_uri": "https://localhost:8080/",
          "height": 34
        },
        "outputId": "77769c33-cfb9-49c3-ec3a-c202a5bd40cc"
      },
      "source": [
        "train_generator.class_indices.values()"
      ],
      "execution_count": null,
      "outputs": [
        {
          "output_type": "execute_result",
          "data": {
            "text/plain": [
              "dict_values([0, 1, 2, 3, 4])"
            ]
          },
          "metadata": {
            "tags": []
          },
          "execution_count": 21
        }
      ]
    },
    {
      "cell_type": "code",
      "metadata": {
        "id": "xKmt7Fgs0CZL",
        "colab_type": "code",
        "colab": {
          "base_uri": "https://localhost:8080/",
          "height": 34
        },
        "outputId": "a3e4b09b-93fd-4c3f-8b08-c20124f463a7"
      },
      "source": [
        "train_generator.class_indices.keys()"
      ],
      "execution_count": null,
      "outputs": [
        {
          "output_type": "execute_result",
          "data": {
            "text/plain": [
              "dict_keys(['Bacteria', 'Fungi', 'Nematodes', 'Normal', 'Virus'])"
            ]
          },
          "metadata": {
            "tags": []
          },
          "execution_count": 22
        }
      ]
    },
    {
      "cell_type": "markdown",
      "metadata": {
        "id": "0NvBUtHZ8VJE",
        "colab_type": "text"
      },
      "source": [
        "FIINE TUNING RESNET AND MOBILENET"
      ]
    },
    {
      "cell_type": "code",
      "metadata": {
        "id": "d6fUwiIb3FVF",
        "colab_type": "code",
        "colab": {
          "base_uri": "https://localhost:8080/",
          "height": 51
        },
        "outputId": "5fc13e75-a852-4420-e55d-25ae484b785a"
      },
      "source": [
        "print(\"Number of layers in the base model: \", len(resnet.layers))\n",
        "print(\"Number of layers in the base model: \", len(mobilenet.layers))"
      ],
      "execution_count": null,
      "outputs": [
        {
          "output_type": "stream",
          "text": [
            "Number of layers in the base model:  190\n",
            "Number of layers in the base model:  155\n"
          ],
          "name": "stdout"
        }
      ]
    },
    {
      "cell_type": "code",
      "metadata": {
        "id": "uM3WtVOj8Q0n",
        "colab_type": "code",
        "colab": {}
      },
      "source": [
        "# for medium dataset\n",
        "# dont forget  if u use fine tuning set learning rate to low \n",
        "# fine_tuning_at = 100\n",
        "\n",
        "# for layer in resnet.layers[:fine_tuning_at]:\n",
        "#   layer.trainable = False\n",
        "\n",
        "# for layer in mobilenet.layers[:fine_tuning_at]:\n",
        "#   layer.trainable = False"
      ],
      "execution_count": null,
      "outputs": []
    },
    {
      "cell_type": "code",
      "metadata": {
        "id": "Th-ErVsyaCAm",
        "colab_type": "code",
        "colab": {}
      },
      "source": [
        "resnet.trainable = True\n",
        "mobilenet.trainable = True"
      ],
      "execution_count": null,
      "outputs": []
    },
    {
      "cell_type": "code",
      "metadata": {
        "id": "5BKSF1ST8kzG",
        "colab_type": "code",
        "colab": {}
      },
      "source": [
        "# recompile\n",
        "model.compile(optimizer=tf.keras.optimizers.Adam(1e-5), loss='categorical_crossentropy', metrics=['accuracy'])\n",
        "model_mobilenet.compile(optimizer=tf.keras.optimizers.Adam(1e-5), loss='categorical_crossentropy', metrics=['accuracy'])"
      ],
      "execution_count": null,
      "outputs": []
    },
    {
      "cell_type": "code",
      "metadata": {
        "id": "cPhSueIV88OL",
        "colab_type": "code",
        "colab": {
          "base_uri": "https://localhost:8080/",
          "height": 289
        },
        "outputId": "9d91e607-00be-4530-e389-62671904accc"
      },
      "source": [
        "model.summary()"
      ],
      "execution_count": null,
      "outputs": [
        {
          "output_type": "stream",
          "text": [
            "Model: \"sequential\"\n",
            "_________________________________________________________________\n",
            "Layer (type)                 Output Shape              Param #   \n",
            "=================================================================\n",
            "resnet50v2 (Functional)      (None, 8, 8, 2048)        23564800  \n",
            "_________________________________________________________________\n",
            "global_average_pooling2d (Gl (None, 2048)              0         \n",
            "_________________________________________________________________\n",
            "dropout (Dropout)            (None, 2048)              0         \n",
            "_________________________________________________________________\n",
            "dense (Dense)                (None, 5)                 10245     \n",
            "=================================================================\n",
            "Total params: 23,575,045\n",
            "Trainable params: 23,529,605\n",
            "Non-trainable params: 45,440\n",
            "_________________________________________________________________\n"
          ],
          "name": "stdout"
        }
      ]
    },
    {
      "cell_type": "code",
      "metadata": {
        "id": "9Uz7K5Mcaa-U",
        "colab_type": "code",
        "colab": {
          "base_uri": "https://localhost:8080/",
          "height": 289
        },
        "outputId": "b8fa7d16-d5b2-418c-d091-f9878097d7a9"
      },
      "source": [
        "model_mobilenet.summary()"
      ],
      "execution_count": null,
      "outputs": [
        {
          "output_type": "stream",
          "text": [
            "Model: \"sequential_1\"\n",
            "_________________________________________________________________\n",
            "Layer (type)                 Output Shape              Param #   \n",
            "=================================================================\n",
            "mobilenetv2_1.00_224 (Functi (None, 8, 8, 1280)        2257984   \n",
            "_________________________________________________________________\n",
            "global_average_pooling2d_1 ( (None, 1280)              0         \n",
            "_________________________________________________________________\n",
            "dropout_1 (Dropout)          (None, 1280)              0         \n",
            "_________________________________________________________________\n",
            "dense_1 (Dense)              (None, 5)                 6405      \n",
            "=================================================================\n",
            "Total params: 2,264,389\n",
            "Trainable params: 2,230,277\n",
            "Non-trainable params: 34,112\n",
            "_________________________________________________________________\n"
          ],
          "name": "stdout"
        }
      ]
    },
    {
      "cell_type": "code",
      "metadata": {
        "id": "15zbk1bk9PmP",
        "colab_type": "code",
        "colab": {
          "base_uri": "https://localhost:8080/",
          "height": 323
        },
        "outputId": "77f0769a-dca9-4865-e91e-ed088293efd6"
      },
      "source": [
        "model.fit(train_generator, validation_data=test_generator, epochs=30, callbacks=[callbacks])"
      ],
      "execution_count": null,
      "outputs": [
        {
          "output_type": "stream",
          "text": [
            "Epoch 1/30\n",
            "4/4 [==============================] - 116s 29s/step - loss: 0.5414 - accuracy: 0.8000 - val_loss: 0.1413 - val_accuracy: 1.0000\n",
            "Epoch 2/30\n",
            "4/4 [==============================] - 115s 29s/step - loss: 0.3976 - accuracy: 0.8605 - val_loss: 0.1340 - val_accuracy: 1.0000\n",
            "Epoch 3/30\n",
            "4/4 [==============================] - 115s 29s/step - loss: 0.3771 - accuracy: 0.8698 - val_loss: 0.1257 - val_accuracy: 1.0000\n",
            "Epoch 4/30\n",
            "4/4 [==============================] - 146s 36s/step - loss: 0.2577 - accuracy: 0.9628 - val_loss: 0.1185 - val_accuracy: 1.0000\n",
            "Epoch 5/30\n",
            "4/4 [==============================] - 117s 29s/step - loss: 0.2475 - accuracy: 0.9302 - val_loss: 0.1118 - val_accuracy: 1.0000\n",
            "Epoch 6/30\n",
            "4/4 [==============================] - 115s 29s/step - loss: 0.1696 - accuracy: 0.9767 - val_loss: 0.1060 - val_accuracy: 0.9583\n",
            "Epoch 7/30\n",
            "4/4 [==============================] - 114s 29s/step - loss: 0.1465 - accuracy: 0.9814 - val_loss: 0.1005 - val_accuracy: 0.9583\n",
            "Epoch 8/30\n",
            "4/4 [==============================] - ETA: 0s - loss: 0.1229 - accuracy: 0.9907  Reached 99% Accuracy\n",
            "4/4 [==============================] - 114s 29s/step - loss: 0.1229 - accuracy: 0.9907 - val_loss: 0.0964 - val_accuracy: 0.9583\n"
          ],
          "name": "stdout"
        },
        {
          "output_type": "execute_result",
          "data": {
            "text/plain": [
              "<tensorflow.python.keras.callbacks.History at 0x7fea50aa34a8>"
            ]
          },
          "metadata": {
            "tags": []
          },
          "execution_count": 29
        }
      ]
    },
    {
      "cell_type": "code",
      "metadata": {
        "id": "E5FecunN_Y2-",
        "colab_type": "code",
        "colab": {
          "base_uri": "https://localhost:8080/",
          "height": 1000
        },
        "outputId": "0dbc62a5-ab25-4052-a893-c874901d6daf"
      },
      "source": [
        "model_mobilenet.fit(train_generator, validation_data=test_generator, epochs=30, callbacks=[callbacks])"
      ],
      "execution_count": null,
      "outputs": [
        {
          "output_type": "stream",
          "text": [
            "Epoch 1/30\n",
            "4/4 [==============================] - 40s 10s/step - loss: 1.3200 - accuracy: 0.5535 - val_loss: 0.0990 - val_accuracy: 1.0000\n",
            "Epoch 2/30\n",
            "4/4 [==============================] - 41s 10s/step - loss: 1.2089 - accuracy: 0.5860 - val_loss: 0.0940 - val_accuracy: 1.0000\n",
            "Epoch 3/30\n",
            "4/4 [==============================] - 39s 10s/step - loss: 1.0313 - accuracy: 0.6093 - val_loss: 0.0907 - val_accuracy: 1.0000\n",
            "Epoch 4/30\n",
            "4/4 [==============================] - 49s 12s/step - loss: 0.9128 - accuracy: 0.6512 - val_loss: 0.0875 - val_accuracy: 1.0000\n",
            "Epoch 5/30\n",
            "4/4 [==============================] - 39s 10s/step - loss: 0.8176 - accuracy: 0.7070 - val_loss: 0.0853 - val_accuracy: 1.0000\n",
            "Epoch 6/30\n",
            "4/4 [==============================] - 39s 10s/step - loss: 0.7372 - accuracy: 0.6977 - val_loss: 0.0840 - val_accuracy: 1.0000\n",
            "Epoch 7/30\n",
            "4/4 [==============================] - 39s 10s/step - loss: 0.7240 - accuracy: 0.7163 - val_loss: 0.0815 - val_accuracy: 1.0000\n",
            "Epoch 8/30\n",
            "4/4 [==============================] - 39s 10s/step - loss: 0.6067 - accuracy: 0.7674 - val_loss: 0.0787 - val_accuracy: 1.0000\n",
            "Epoch 9/30\n",
            "4/4 [==============================] - 39s 10s/step - loss: 0.5376 - accuracy: 0.8000 - val_loss: 0.0763 - val_accuracy: 1.0000\n",
            "Epoch 10/30\n",
            "4/4 [==============================] - 39s 10s/step - loss: 0.4483 - accuracy: 0.8326 - val_loss: 0.0731 - val_accuracy: 1.0000\n",
            "Epoch 11/30\n",
            "4/4 [==============================] - 39s 10s/step - loss: 0.4346 - accuracy: 0.8419 - val_loss: 0.0705 - val_accuracy: 1.0000\n",
            "Epoch 12/30\n",
            "4/4 [==============================] - 39s 10s/step - loss: 0.3587 - accuracy: 0.8837 - val_loss: 0.0679 - val_accuracy: 1.0000\n",
            "Epoch 13/30\n",
            "4/4 [==============================] - 41s 10s/step - loss: 0.3260 - accuracy: 0.9023 - val_loss: 0.0656 - val_accuracy: 1.0000\n",
            "Epoch 14/30\n",
            "4/4 [==============================] - 39s 10s/step - loss: 0.2861 - accuracy: 0.9256 - val_loss: 0.0641 - val_accuracy: 1.0000\n",
            "Epoch 15/30\n",
            "4/4 [==============================] - 38s 10s/step - loss: 0.2606 - accuracy: 0.9442 - val_loss: 0.0627 - val_accuracy: 1.0000\n",
            "Epoch 16/30\n",
            "4/4 [==============================] - 49s 12s/step - loss: 0.2410 - accuracy: 0.9488 - val_loss: 0.0615 - val_accuracy: 1.0000\n",
            "Epoch 17/30\n",
            "4/4 [==============================] - 39s 10s/step - loss: 0.2004 - accuracy: 0.9674 - val_loss: 0.0606 - val_accuracy: 1.0000\n",
            "Epoch 18/30\n",
            "4/4 [==============================] - 38s 10s/step - loss: 0.2121 - accuracy: 0.9442 - val_loss: 0.0596 - val_accuracy: 1.0000\n",
            "Epoch 19/30\n",
            "4/4 [==============================] - 38s 10s/step - loss: 0.1975 - accuracy: 0.9674 - val_loss: 0.0590 - val_accuracy: 1.0000\n",
            "Epoch 20/30\n",
            "4/4 [==============================] - 38s 10s/step - loss: 0.1697 - accuracy: 0.9814 - val_loss: 0.0587 - val_accuracy: 1.0000\n",
            "Epoch 21/30\n",
            "4/4 [==============================] - 39s 10s/step - loss: 0.1461 - accuracy: 0.9814 - val_loss: 0.0587 - val_accuracy: 1.0000\n",
            "Epoch 22/30\n",
            "4/4 [==============================] - 38s 10s/step - loss: 0.1792 - accuracy: 0.9767 - val_loss: 0.0585 - val_accuracy: 1.0000\n",
            "Epoch 23/30\n",
            "4/4 [==============================] - 49s 12s/step - loss: 0.1541 - accuracy: 0.9814 - val_loss: 0.0584 - val_accuracy: 1.0000\n",
            "Epoch 24/30\n",
            "4/4 [==============================] - 41s 10s/step - loss: 0.1440 - accuracy: 0.9767 - val_loss: 0.0579 - val_accuracy: 1.0000\n",
            "Epoch 25/30\n",
            "4/4 [==============================] - 40s 10s/step - loss: 0.1205 - accuracy: 0.9860 - val_loss: 0.0573 - val_accuracy: 1.0000\n",
            "Epoch 26/30\n",
            "4/4 [==============================] - 39s 10s/step - loss: 0.1366 - accuracy: 0.9767 - val_loss: 0.0570 - val_accuracy: 1.0000\n",
            "Epoch 27/30\n",
            "4/4 [==============================] - 39s 10s/step - loss: 0.1252 - accuracy: 0.9814 - val_loss: 0.0568 - val_accuracy: 1.0000\n",
            "Epoch 28/30\n",
            "4/4 [==============================] - 39s 10s/step - loss: 0.1300 - accuracy: 0.9721 - val_loss: 0.0571 - val_accuracy: 1.0000\n",
            "Epoch 29/30\n",
            "4/4 [==============================] - ETA: 0s - loss: 0.0707 - accuracy: 1.0000 Reached 99% Accuracy\n",
            "4/4 [==============================] - 39s 10s/step - loss: 0.0707 - accuracy: 1.0000 - val_loss: 0.0575 - val_accuracy: 1.0000\n"
          ],
          "name": "stdout"
        },
        {
          "output_type": "execute_result",
          "data": {
            "text/plain": [
              "<tensorflow.python.keras.callbacks.History at 0x7fea5000c780>"
            ]
          },
          "metadata": {
            "tags": []
          },
          "execution_count": 30
        }
      ]
    },
    {
      "cell_type": "code",
      "metadata": {
        "id": "hq_18ecL9qje",
        "colab_type": "code",
        "colab": {
          "base_uri": "https://localhost:8080/",
          "height": 833
        },
        "outputId": "0aa4a85f-1b19-4ee5-b6de-6dee4e82c95d"
      },
      "source": [
        "test()"
      ],
      "execution_count": null,
      "outputs": [
        {
          "output_type": "stream",
          "text": [
            "[[0.8775725  0.06128008 0.02649392 0.03349793 0.00115561]]\n",
            "['From Validation Class Bacteria -> Bacteria']\n",
            "[[0.9093746  0.01100808 0.00130731 0.07536916 0.0029408 ]]\n",
            "['From Validation Class Bacteria -> Bacteria']\n",
            "[[7.9734784e-01 6.5143377e-02 2.8494356e-04 1.3595732e-01 1.2664744e-03]]\n",
            "['From Validation Class Bacteria -> Bacteria']\n",
            "[[0.7027002  0.02277252 0.19085383 0.07117157 0.01250189]]\n",
            "['From Validation Class Bacteria -> Bacteria']\n",
            "[[9.6444350e-01 3.1261858e-02 9.1897725e-04 1.0290006e-03 2.3467198e-03]]\n",
            "['From Validation Class Bacteria -> Bacteria']\n",
            "[[1.7483469e-02 4.4057388e-03 9.7652370e-01 1.3702132e-03 2.1690469e-04]]\n",
            "['From Validation Class Nematodes -> Nematodes']\n",
            "[[1.0356947e-03 1.0794559e-03 9.9782157e-01 3.6435547e-05 2.6928683e-05]]\n",
            "['From Validation Class Nematodes -> Nematodes']\n",
            "[[4.5676267e-04 1.7145926e-03 9.9776709e-01 1.1840840e-05 4.9730475e-05]]\n",
            "['From Validation Class Nematodes -> Nematodes']\n",
            "[[1.7852839e-03 6.3730549e-04 9.9741518e-01 1.4067738e-04 2.1466529e-05]]\n",
            "['From Validation Class Nematodes -> Nematodes']\n",
            "[[2.4599093e-03 8.0378348e-04 8.0100341e-05 2.3980733e-04 9.9641633e-01]]\n",
            "['From Validation Class Virus -> Virus']\n",
            "[[0.00277573 0.01439284 0.00121649 0.05843586 0.9231791 ]]\n",
            "['From Validation Class Virus -> Virus']\n",
            "[[3.7531594e-03 2.0873884e-03 3.3165116e-04 4.3856434e-04 9.9338925e-01]]\n",
            "['From Validation Class Virus -> Virus']\n",
            "[[4.4409055e-03 1.4557863e-03 2.1889702e-04 1.8037792e-04 9.9370402e-01]]\n",
            "['From Validation Class Virus -> Virus']\n",
            "[[0.01886413 0.00177734 0.00119647 0.00264107 0.97552097]]\n",
            "['From Validation Class Virus -> Virus']\n",
            "[[1.8698283e-06 9.9997807e-01 3.0220942e-08 1.9214247e-05 8.2818264e-07]]\n",
            "['From Validation Class Fungi -> Fungi']\n",
            "[[9.1403220e-03 9.8803407e-01 1.3191627e-03 1.2344372e-03 2.7197029e-04]]\n",
            "['From Validation Class Fungi -> Fungi']\n",
            "[[1.0044776e-02 9.8411787e-01 1.2954207e-04 5.5123828e-03 1.9540783e-04]]\n",
            "['From Validation Class Fungi -> Fungi']\n",
            "[[0.480458   0.34949675 0.10325956 0.06437988 0.00240575]]\n",
            "['From Validation Class Fungi -> Bacteria']\n",
            "[[2.2433998e-05 9.9988294e-01 5.5323246e-05 1.6842718e-05 2.2540260e-05]]\n",
            "['From Validation Class Fungi -> Fungi']\n",
            "[[0.0041188  0.02757015 0.00451043 0.96260226 0.0011983 ]]\n",
            "['From Validation Class Normal -> Normal']\n",
            "[[1.5299289e-02 7.1915132e-03 3.0328694e-04 9.7687215e-01 3.3371907e-04]]\n",
            "['From Validation Class Normal -> Normal']\n",
            "[[1.4924833e-02 1.8966153e-02 6.8805600e-04 9.6533096e-01 8.9988600e-05]]\n",
            "['From Validation Class Normal -> Normal']\n",
            "[[1.0700893e-03 1.4651327e-02 3.5952009e-05 9.8415035e-01 9.2340451e-05]]\n",
            "['From Validation Class Normal -> Normal']\n",
            "[[2.1427562e-03 1.1722596e-01 2.3634348e-04 8.8013095e-01 2.6399331e-04]]\n",
            "['From Validation Class Normal -> Normal']\n"
          ],
          "name": "stdout"
        }
      ]
    },
    {
      "cell_type": "code",
      "metadata": {
        "id": "Rykyp3zO_xJ9",
        "colab_type": "code",
        "colab": {
          "base_uri": "https://localhost:8080/",
          "height": 850
        },
        "outputId": "38b3b32d-f320-4317-bec2-81f8b12802b2"
      },
      "source": [
        "test_mobilenet()"
      ],
      "execution_count": null,
      "outputs": [
        {
          "output_type": "stream",
          "text": [
            "[[5.1950014e-01 1.9985887e-03 1.4234024e-04 4.6887624e-01 9.4828047e-03]]\n",
            "['From Validation Class Bacteria -> Bacteria']\n",
            "[[8.8190907e-01 8.2061731e-04 3.3400305e-05 1.1466957e-01 2.5673376e-03]]\n",
            "['From Validation Class Bacteria -> Bacteria']\n",
            "[[9.3331116e-01 3.8693037e-02 5.0209521e-04 2.4238614e-02 3.2550960e-03]]\n",
            "['From Validation Class Bacteria -> Bacteria']\n",
            "[[9.7425157e-01 9.7514148e-04 6.7071134e-04 2.3027753e-02 1.0749004e-03]]\n",
            "['From Validation Class Bacteria -> Bacteria']\n",
            "[[9.9575621e-01 1.1426732e-03 4.0342948e-05 4.4276955e-04 2.6179932e-03]]\n",
            "['From Validation Class Bacteria -> Bacteria']\n",
            "[[0.08974665 0.00557073 0.89354277 0.00279022 0.00834961]]\n",
            "['From Validation Class Nematodes -> Nematodes']\n",
            "[[1.7553130e-04 1.4008210e-03 9.9822444e-01 6.2931285e-05 1.3623772e-04]]\n",
            "['From Validation Class Nematodes -> Nematodes']\n",
            "[[7.978004e-03 8.804756e-03 9.794741e-01 2.806441e-03 9.367547e-04]]\n",
            "['From Validation Class Nematodes -> Nematodes']\n",
            "[[5.2312436e-04 5.8259896e-04 9.9860710e-01 2.2102093e-04 6.6169268e-05]]\n",
            "['From Validation Class Nematodes -> Nematodes']\n",
            "[[1.7873028e-05 2.2658400e-05 1.6336676e-07 5.1459028e-07 9.9995875e-01]]\n",
            "['From Validation Class Virus -> Virus']\n",
            "[[8.0018064e-05 2.8398779e-04 6.4474381e-07 3.0757338e-04 9.9932778e-01]]\n",
            "['From Validation Class Virus -> Virus']\n",
            "[[7.4025729e-06 1.4706823e-04 2.2700367e-06 3.7917114e-06 9.9983943e-01]]\n",
            "['From Validation Class Virus -> Virus']\n",
            "[[2.8475142e-05 3.9486869e-05 2.6588847e-07 1.1340577e-06 9.9993062e-01]]\n",
            "['From Validation Class Virus -> Virus']\n",
            "[[1.1468828e-04 3.1240864e-04 7.6783277e-07 2.2517792e-04 9.9934691e-01]]\n",
            "['From Validation Class Virus -> Virus']\n",
            "[[1.0018152e-05 9.9955314e-01 3.9371469e-07 1.5163394e-04 2.8476925e-04]]\n",
            "['From Validation Class Fungi -> Fungi']\n",
            "[[7.2499702e-04 9.0598845e-01 5.4986460e-05 9.2631452e-02 6.0003047e-04]]\n",
            "['From Validation Class Fungi -> Fungi']\n",
            "[[1.7980940e-03 9.9547476e-01 1.1823735e-05 2.4099003e-03 3.0535195e-04]]\n",
            "['From Validation Class Fungi -> Fungi']\n",
            "[[3.5097692e-02 9.3857241e-01 2.9063984e-04 2.3608087e-02 2.4311340e-03]]\n",
            "['From Validation Class Fungi -> Fungi']\n",
            "[[1.3179713e-04 9.9833566e-01 3.8825837e-04 3.4445056e-04 8.0004480e-04]]\n",
            "['From Validation Class Fungi -> Fungi']\n",
            "[[2.5850398e-04 3.4958047e-03 7.1936201e-06 9.9619412e-01 4.4425182e-05]]\n",
            "['From Validation Class Normal -> Normal']\n",
            "[[3.5624150e-03 5.1134489e-03 2.2136546e-05 9.9085265e-01 4.4935141e-04]]\n",
            "['From Validation Class Normal -> Normal']\n",
            "[[1.4286381e-03 4.0652379e-02 3.7716927e-05 9.5777905e-01 1.0218535e-04]]\n",
            "['From Validation Class Normal -> Normal']\n",
            "[[1.4046238e-05 2.4812181e-02 1.2291669e-06 9.7491395e-01 2.5859821e-04]]\n",
            "['From Validation Class Normal -> Normal']\n",
            "[[3.18534912e-05 1.05626315e-01 9.47028070e-07 8.93866360e-01\n",
            "  4.74481873e-04]]\n",
            "['From Validation Class Normal -> Normal']\n"
          ],
          "name": "stdout"
        }
      ]
    },
    {
      "cell_type": "code",
      "metadata": {
        "id": "yJ1RX_XL_zMv",
        "colab_type": "code",
        "colab": {}
      },
      "source": [
        ""
      ],
      "execution_count": null,
      "outputs": []
    }
  ]
}